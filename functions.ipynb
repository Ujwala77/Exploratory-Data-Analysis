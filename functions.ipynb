{
 "cells": [
  {
   "cell_type": "code",
   "execution_count": 1,
   "metadata": {},
   "outputs": [],
   "source": [
    "## sytanx: functions\n",
    "\n",
    "# def <func_name>(<(parameters)>):\n",
    "#   <func body>\n",
    "#   (return)  # optional\n",
    "#  Note: parameters are also optional\n"
   ]
  },
  {
   "cell_type": "code",
   "execution_count": 2,
   "metadata": {},
   "outputs": [],
   "source": [
    "### WAF to read two numbers and display sum.\n",
    "\n",
    "### function defination\n",
    "def addition():\n",
    "    n1 = int(input('Enter a number:'))\n",
    "    n2 = int(input('Enter a number:'))\n",
    "    print('Summation:',n1+n2)\n",
    "    "
   ]
  },
  {
   "cell_type": "code",
   "execution_count": 3,
   "metadata": {},
   "outputs": [
    {
     "name": "stdout",
     "output_type": "stream",
     "text": [
      "Enter a number:5\n",
      "Enter a number:6\n",
      "Summation: 11\n"
     ]
    }
   ],
   "source": [
    "### function call\n",
    "addition()"
   ]
  },
  {
   "cell_type": "code",
   "execution_count": 4,
   "metadata": {},
   "outputs": [],
   "source": [
    "### function defination\n",
    "def addition():\n",
    "    n1 = int(input('Enter a number:'))\n",
    "    n2 = int(input('Enter a number:'))\n",
    "#     print('Summation:',n1+n2)\n",
    "    return n1+n2  \n",
    "#     return (n1+n2)"
   ]
  },
  {
   "cell_type": "code",
   "execution_count": 5,
   "metadata": {},
   "outputs": [
    {
     "name": "stdout",
     "output_type": "stream",
     "text": [
      "Enter a number:6\n",
      "Enter a number:6\n",
      "12\n"
     ]
    }
   ],
   "source": [
    "sum_ = addition()\n",
    "print(sum_)"
   ]
  },
  {
   "cell_type": "code",
   "execution_count": 6,
   "metadata": {},
   "outputs": [
    {
     "name": "stdout",
     "output_type": "stream",
     "text": [
      "Enter a number:6\n",
      "Enter a number:6\n"
     ]
    },
    {
     "data": {
      "text/plain": [
       "12"
      ]
     },
     "execution_count": 6,
     "metadata": {},
     "output_type": "execute_result"
    }
   ],
   "source": [
    "addition()"
   ]
  },
  {
   "cell_type": "code",
   "execution_count": 7,
   "metadata": {},
   "outputs": [
    {
     "name": "stdout",
     "output_type": "stream",
     "text": [
      "Enter a number:6\n",
      "Enter a number:6\n",
      "12\n"
     ]
    }
   ],
   "source": [
    "print(addition())"
   ]
  },
  {
   "cell_type": "code",
   "execution_count": 8,
   "metadata": {},
   "outputs": [],
   "source": [
    "### function defination\n",
    "def addition():\n",
    "    n1 = int(input('Enter a number:'))\n",
    "    n2 = int(input('Enter a number:'))\n",
    "    return n1+n2  # return "
   ]
  },
  {
   "cell_type": "code",
   "execution_count": 9,
   "metadata": {},
   "outputs": [],
   "source": [
    "## WAF to read two integers and display swaped values:\n",
    "## def swap():\n",
    "##     <body>\n",
    "\n",
    "def swap():\n",
    "    n1 = int(input('Enter a number:'))\n",
    "    n2 = int(input('Enter a number:'))\n",
    "    print(\"{} and {}\".format(n1,n2))\n",
    "    #swap \n",
    "    temp_variable = n1\n",
    "    n1 = n2\n",
    "    n2 = temp_variable\n",
    "    ## display\n",
    "    print(\"{} and {}\".format(n1,n2))"
   ]
  },
  {
   "cell_type": "code",
   "execution_count": 10,
   "metadata": {},
   "outputs": [
    {
     "name": "stdout",
     "output_type": "stream",
     "text": [
      "Enter a number:6\n",
      "Enter a number:6\n",
      "6 and 6\n",
      "6 and 6\n"
     ]
    }
   ],
   "source": [
    "swap()"
   ]
  },
  {
   "cell_type": "code",
   "execution_count": 11,
   "metadata": {},
   "outputs": [],
   "source": [
    "### returning multiple values using function\n",
    "### function defination\n",
    "def addition():\n",
    "    n1 = int(input('Enter a number:'))\n",
    "    n2 = int(input('Enter a number:'))\n",
    "    #swap \n",
    "    temp_variable = n1\n",
    "    n1 = n2\n",
    "    n2 = temp_variable    \n",
    "    return (n1,n2,n1+n2 ) # returning multiple values "
   ]
  },
  {
   "cell_type": "code",
   "execution_count": 12,
   "metadata": {},
   "outputs": [
    {
     "name": "stdout",
     "output_type": "stream",
     "text": [
      "Enter a number:4\n",
      "Enter a number:4\n"
     ]
    },
    {
     "data": {
      "text/plain": [
       "(4, 4, 8)"
      ]
     },
     "execution_count": 12,
     "metadata": {},
     "output_type": "execute_result"
    }
   ],
   "source": [
    "addition()"
   ]
  },
  {
   "cell_type": "code",
   "execution_count": 13,
   "metadata": {},
   "outputs": [
    {
     "name": "stdout",
     "output_type": "stream",
     "text": [
      "Enter a number:6\n",
      "Enter a number:2\n",
      "2 6 8\n"
     ]
    }
   ],
   "source": [
    "tup_var = addition()\n",
    "print(tup_var[0],tup_var[1],tup_var[2])  ## accessing tuple values through indexing"
   ]
  },
  {
   "cell_type": "code",
   "execution_count": 14,
   "metadata": {},
   "outputs": [
    {
     "name": "stdout",
     "output_type": "stream",
     "text": [
      "Enter a number:8\n",
      "Enter a number:3\n",
      "3 8 11\n"
     ]
    }
   ],
   "source": [
    "####\n",
    "a,b,s = addition() ## \n",
    "print(a,b,s)"
   ]
  },
  {
   "cell_type": "code",
   "execution_count": 15,
   "metadata": {},
   "outputs": [],
   "source": [
    "### returning multiple values using function\n",
    "### function defination\n",
    "def addition():\n",
    "    n1 = int(input('Enter a number:'))\n",
    "    n2 = int(input('Enter a number:'))\n",
    "    #swap \n",
    "    temp_variable = n1\n",
    "    n1 = n2\n",
    "    n2 = temp_variable  \n",
    "    sm_ = n1+n2\n",
    "    return (n1,n2,sm_ ) # returning multiple values "
   ]
  },
  {
   "cell_type": "code",
   "execution_count": 16,
   "metadata": {},
   "outputs": [
    {
     "name": "stdout",
     "output_type": "stream",
     "text": [
      "Enter a number:7\n",
      "Enter a number:3\n"
     ]
    },
    {
     "data": {
      "text/plain": [
       "(3, 7, 10)"
      ]
     },
     "execution_count": 16,
     "metadata": {},
     "output_type": "execute_result"
    }
   ],
   "source": [
    "addition()"
   ]
  },
  {
   "cell_type": "code",
   "execution_count": 17,
   "metadata": {},
   "outputs": [],
   "source": [
    "# sm_"
   ]
  },
  {
   "cell_type": "code",
   "execution_count": 18,
   "metadata": {},
   "outputs": [],
   "source": [
    "### returning multiple values using function\n",
    "### function defination\n",
    "def addition():\n",
    "    n1 = int(input('Enter a number:'))\n",
    "    n2 = int(input('Enter a number:'))\n",
    "    #swap \n",
    "    temp_variable = n1\n",
    "    n1 = n2\n",
    "    n2 = temp_variable  \n",
    "    sm_ = n1+n2\n",
    "    return (n1,n2,sm_ ) # returning multiple values "
   ]
  },
  {
   "cell_type": "code",
   "execution_count": 19,
   "metadata": {},
   "outputs": [],
   "source": [
    "# a = addition()\n",
    "# a[2]"
   ]
  },
  {
   "cell_type": "code",
   "execution_count": 20,
   "metadata": {},
   "outputs": [],
   "source": [
    "# a,b,c,d = addition()"
   ]
  },
  {
   "cell_type": "code",
   "execution_count": 21,
   "metadata": {},
   "outputs": [],
   "source": [
    "# n1 = 4\n",
    "# n2 = 5\n",
    "# n2,n1 = n1,n2\n",
    "# n2"
   ]
  },
  {
   "cell_type": "code",
   "execution_count": 22,
   "metadata": {},
   "outputs": [
    {
     "data": {
      "text/plain": [
       "9"
      ]
     },
     "execution_count": 22,
     "metadata": {},
     "output_type": "execute_result"
    }
   ],
   "source": [
    "### WAF to  take two values and return sum.\n",
    "\n",
    "n1 = 5\n",
    "n2 = 7\n",
    "\n",
    "def addition_ (n1, n2):\n",
    "# def addition_ (a, b):  \n",
    "    s = n1+n2\n",
    "    return s\n",
    "addition_(4,5) ## passing agruments"
   ]
  },
  {
   "cell_type": "code",
   "execution_count": 23,
   "metadata": {},
   "outputs": [
    {
     "name": "stdout",
     "output_type": "stream",
     "text": [
      "9\n",
      "9\n",
      "9\n",
      "9\n"
     ]
    }
   ],
   "source": [
    "print(addition_(4,5))\n",
    "print(addition_(n1 = 4,n2 = 5))\n",
    "print(addition_(4,n2 = 5))\n",
    "# print(addition_(n1 = 4, 5)) # this will throw error\n",
    "print(addition_(n2 = 4,n1 = 5))\n",
    "# print(addition_('hello',5))"
   ]
  },
  {
   "cell_type": "code",
   "execution_count": 24,
   "metadata": {},
   "outputs": [
    {
     "data": {
      "text/plain": [
       "9"
      ]
     },
     "execution_count": 24,
     "metadata": {},
     "output_type": "execute_result"
    }
   ],
   "source": [
    "### WAF to  take two values and return sum.\n",
    "\n",
    "n1 = 5\n",
    "n2 = 7\n",
    "\n",
    "def addition_ (a, b):\n",
    "# def addition_ (a, b):  \n",
    "    s = a+b\n",
    "    return s\n",
    "addition_(4,5) ## passing agruments"
   ]
  },
  {
   "cell_type": "code",
   "execution_count": 25,
   "metadata": {},
   "outputs": [
    {
     "name": "stdout",
     "output_type": "stream",
     "text": [
      "9\n",
      "9\n",
      "9\n",
      "9\n"
     ]
    }
   ],
   "source": [
    "print(addition_(4,5))\n",
    "print(addition_(a = 4,b = 5))\n",
    "print(addition_(4,b = 5))\n",
    "print(addition_(b = 4,a = 5))\n",
    "# print(addition_('hello',5))"
   ]
  },
  {
   "cell_type": "code",
   "execution_count": 26,
   "metadata": {},
   "outputs": [],
   "source": [
    "def addition_(a,b):\n",
    "    \"\"\"This function adds two integers.\n",
    "    Inputs: two integers\n",
    "    Output: summation of two integers\"\"\"\n",
    "    return"
   ]
  },
  {
   "cell_type": "code",
   "execution_count": 27,
   "metadata": {},
   "outputs": [],
   "source": [
    "# addition_()"
   ]
  },
  {
   "cell_type": "code",
   "execution_count": 28,
   "metadata": {},
   "outputs": [],
   "source": [
    "##\n",
    "def greet(name,greet='Hello'):\n",
    "    print(greet +' '+ name + '!')"
   ]
  },
  {
   "cell_type": "code",
   "execution_count": 29,
   "metadata": {},
   "outputs": [
    {
     "name": "stdout",
     "output_type": "stream",
     "text": [
      "Hi Rama!\n"
     ]
    }
   ],
   "source": [
    "greet(greet = 'Hi',name = 'Rama')"
   ]
  },
  {
   "cell_type": "code",
   "execution_count": 30,
   "metadata": {},
   "outputs": [
    {
     "name": "stdout",
     "output_type": "stream",
     "text": [
      "Hello Rama!\n"
     ]
    }
   ],
   "source": [
    "greet(name = 'Rama')"
   ]
  },
  {
   "cell_type": "code",
   "execution_count": 31,
   "metadata": {},
   "outputs": [
    {
     "name": "stdout",
     "output_type": "stream",
     "text": [
      "0\n"
     ]
    }
   ],
   "source": [
    "## WAF to add two numbers with default values:\n",
    "def sum_(n1=0,n2=0):\n",
    "    print(n1+n2)\n",
    "sum_()"
   ]
  },
  {
   "cell_type": "code",
   "execution_count": 32,
   "metadata": {},
   "outputs": [
    {
     "name": "stdout",
     "output_type": "stream",
     "text": [
      "4\n"
     ]
    }
   ],
   "source": [
    "sum_(4)"
   ]
  },
  {
   "cell_type": "code",
   "execution_count": 33,
   "metadata": {},
   "outputs": [
    {
     "name": "stdout",
     "output_type": "stream",
     "text": [
      "11\n"
     ]
    }
   ],
   "source": [
    "sum_(5,6)"
   ]
  },
  {
   "cell_type": "code",
   "execution_count": 34,
   "metadata": {},
   "outputs": [],
   "source": [
    "### WAF to add integers and display the sum\n",
    "def sum_(a,b):\n",
    "    print(a+b)"
   ]
  },
  {
   "cell_type": "code",
   "execution_count": 35,
   "metadata": {},
   "outputs": [],
   "source": [
    "# sum_(3,4,5)"
   ]
  },
  {
   "cell_type": "code",
   "execution_count": 36,
   "metadata": {},
   "outputs": [],
   "source": [
    "## none-keyworded arguments\n",
    "def sum_(* agrs):\n",
    "    print(sum(agrs))"
   ]
  },
  {
   "cell_type": "code",
   "execution_count": 37,
   "metadata": {},
   "outputs": [
    {
     "name": "stdout",
     "output_type": "stream",
     "text": [
      "1\n",
      "3\n",
      "6\n",
      "10\n",
      "19\n"
     ]
    }
   ],
   "source": [
    "sum_(1)\n",
    "sum_(1,2)\n",
    "sum_(1,2,3)\n",
    "sum_(1,2,3,4)\n",
    "sum_(1,3,4,5,6)"
   ]
  },
  {
   "cell_type": "code",
   "execution_count": 38,
   "metadata": {},
   "outputs": [],
   "source": [
    "## keyworded arguments\n",
    "def myfunc(** agrs):\n",
    "#     {'a': 3, 'b': 5, 'c': 7, 'd': 9}\n",
    "    print(agrs)"
   ]
  },
  {
   "cell_type": "code",
   "execution_count": 39,
   "metadata": {},
   "outputs": [
    {
     "name": "stdout",
     "output_type": "stream",
     "text": [
      "{'a': 3, 'b': 5, 'c': 7, 'd': 9}\n"
     ]
    }
   ],
   "source": [
    "myfunc(a=3,b=5,c=7,d=9)"
   ]
  },
  {
   "cell_type": "markdown",
   "metadata": {},
   "source": [
    "###### local and global scope\n",
    "###### nested functions\n",
    "\n",
    "##### WAF to find factorial of a number.\n",
    "##### WAF to design calculator program using function."
   ]
  },
  {
   "cell_type": "code",
   "execution_count": 40,
   "metadata": {},
   "outputs": [
    {
     "name": "stdout",
     "output_type": "stream",
     "text": [
      "Before function call var=  10\n",
      "Inside function call var=  15\n",
      "After function call var=  10\n"
     ]
    }
   ],
   "source": [
    "## example of local and global scope\n",
    "## function defination\n",
    "def update(var):\n",
    "    '''This function takes an integer argument and updates by 5 '''\n",
    "    var = var + 5\n",
    "    print('Inside function call var= ', var)\n",
    "\n",
    "var = 10 \n",
    "print('Before function call var= ', var)\n",
    "update(var)\n",
    "print('After function call var= ', var)\n",
    "## None"
   ]
  },
  {
   "cell_type": "code",
   "execution_count": 41,
   "metadata": {},
   "outputs": [],
   "source": [
    "## example of local and global scope\n",
    "## function defination\n",
    "def update(var):\n",
    "    '''This function takes an integer argument and updates by 5 '''\n",
    "    var = var + 5\n",
    "#     print('Inside function call var= ', var)\n",
    "    return var # this will return 15"
   ]
  },
  {
   "cell_type": "code",
   "execution_count": 42,
   "metadata": {},
   "outputs": [
    {
     "name": "stdout",
     "output_type": "stream",
     "text": [
      "Before function call var=  10\n",
      "After function call var=  15\n"
     ]
    }
   ],
   "source": [
    "var = 10 ## initialising with 10\n",
    "print('Before function call var= ', var)\n",
    "var = update(var) # 15\n",
    "print('After function call var= ', var)"
   ]
  },
  {
   "cell_type": "code",
   "execution_count": 43,
   "metadata": {},
   "outputs": [
    {
     "data": {
      "text/plain": [
       "(8, 7, 15)"
      ]
     },
     "execution_count": 43,
     "metadata": {},
     "output_type": "execute_result"
    }
   ],
   "source": [
    "### example of nested function\n",
    "## \n",
    "def swap(n1,n2):\n",
    "    t = n1\n",
    "    n1 = n2\n",
    "    n2 = t\n",
    "    return (n1,n2)\n",
    "\n",
    "def addition_(n1,n2):\n",
    "    ## call swap function\n",
    "    n1,n2 = swap(n1,n2)   \n",
    "    return (n1,n2,n1+n2)\n",
    "\n",
    "## call function\n",
    "addition_(7,8)"
   ]
  },
  {
   "cell_type": "code",
   "execution_count": 44,
   "metadata": {},
   "outputs": [
    {
     "data": {
      "text/plain": [
       "(8, 7, 15)"
      ]
     },
     "execution_count": 44,
     "metadata": {},
     "output_type": "execute_result"
    }
   ],
   "source": [
    "def swap(a,b):\n",
    "    t = a\n",
    "    a = b\n",
    "    b = t\n",
    "    return (a,b)\n",
    "\n",
    "def addition_(a,b):\n",
    "    ## call swap function\n",
    "    a,b = swap(a,b)   \n",
    "    return (a,b,a+b)\n",
    "\n",
    "## call function\n",
    "addition_(7,8)"
   ]
  },
  {
   "cell_type": "code",
   "execution_count": 45,
   "metadata": {},
   "outputs": [
    {
     "data": {
      "text/plain": [
       "(8, 7, 15)"
      ]
     },
     "execution_count": 45,
     "metadata": {},
     "output_type": "execute_result"
    }
   ],
   "source": [
    "def swap(a,b):\n",
    "    t = a\n",
    "    a = b\n",
    "    b = t\n",
    "    return (a,b)\n",
    "\n",
    "def addition_(n1,n2):\n",
    "    ## call swap function\n",
    "    n1,n2 = swap(a=n1,b=n2)   \n",
    "    return (n1,n2,n1+n2)\n",
    "\n",
    "## call function\n",
    "addition_(7,8)"
   ]
  },
  {
   "cell_type": "code",
   "execution_count": 46,
   "metadata": {},
   "outputs": [
    {
     "data": {
      "text/plain": [
       "24"
      ]
     },
     "execution_count": 46,
     "metadata": {},
     "output_type": "execute_result"
    }
   ],
   "source": [
    "# WAF to find factorial of a number.\n",
    "\n",
    "def factorial(n):\n",
    "    if ((n==1) | (n==0)):\n",
    "        return 1\n",
    "    else:\n",
    "        fac = 1\n",
    "        i = 2\n",
    "        while i <= n:\n",
    "            fac = fac * i\n",
    "            i = i+1 # update variable\n",
    "#             print(fac, i)\n",
    "        return fac\n",
    "\n",
    "## function call\n",
    "factorial(4)"
   ]
  },
  {
   "cell_type": "code",
   "execution_count": 47,
   "metadata": {},
   "outputs": [
    {
     "name": "stdout",
     "output_type": "stream",
     "text": [
      "24\n",
      "1\n",
      "1\n",
      "120\n",
      "720\n"
     ]
    }
   ],
   "source": [
    "# WAF to find factorial of a number.\n",
    "def factorial(n):\n",
    "    if ((n==1) | (n==0)):\n",
    "        return 1\n",
    "    else:\n",
    "        return n*factorial(n-1) # recursive call\n",
    "        \n",
    "## function call\n",
    "print(factorial(4))\n",
    "print(factorial(0))\n",
    "print(factorial(1))\n",
    "print(factorial(5))\n",
    "print(factorial(6))"
   ]
  },
  {
   "cell_type": "code",
   "execution_count": 48,
   "metadata": {},
   "outputs": [],
   "source": [
    "## WAF to design calculator program using function.\n",
    "\n",
    "def calculator(n1,n2,op):\n",
    "    if op =='+':\n",
    "        return n1+n2\n",
    "    elif op =='-':\n",
    "        return n1-n2\n",
    "    elif op =='*':\n",
    "        return n1*n2\n",
    "    elif op =='/':\n",
    "        if n2!= 0:\n",
    "            return n1/n2\n",
    "        else :\n",
    "            return -1\n",
    "    else:\n",
    "        return -1"
   ]
  },
  {
   "cell_type": "code",
   "execution_count": 49,
   "metadata": {},
   "outputs": [
    {
     "name": "stdout",
     "output_type": "stream",
     "text": [
      "Enter 1st number:7\n",
      "Enter 1st number:3\n",
      "Enter operator:6\n",
      "Error: Invalid Inputs!\n"
     ]
    }
   ],
   "source": [
    "## \n",
    "num1 =  int(input('Enter 1st number:'))\n",
    "num2 =  int(input('Enter 1st number:'))\n",
    "operator =  input('Enter operator:')\n",
    "\n",
    "# call calculator function\n",
    "result = 0\n",
    "result = calculator(num1, num2, operator)\n",
    "if result == -1:\n",
    "    print('Error: Invalid Inputs!')\n",
    "else:\n",
    "    print('Result = {}'.format(result))\n"
   ]
  },
  {
   "cell_type": "code",
   "execution_count": 50,
   "metadata": {},
   "outputs": [],
   "source": [
    "## Example of empty function\n",
    "def dummy():\n",
    "    return\n"
   ]
  },
  {
   "cell_type": "code",
   "execution_count": 51,
   "metadata": {},
   "outputs": [],
   "source": [
    "## Example of empty function\n",
    "def dummy():\n",
    "    pass"
   ]
  },
  {
   "cell_type": "markdown",
   "metadata": {},
   "source": [
    "## lambda functions"
   ]
  },
  {
   "cell_type": "code",
   "execution_count": 52,
   "metadata": {},
   "outputs": [],
   "source": [
    "## syntax:\n",
    "# lambda agruments:<output expression>\n",
    "# for example:\n",
    "# lambda n:n**2 # square number n\n",
    "# lambda n1,n2:n1*n2  # product of n1 and n2"
   ]
  },
  {
   "cell_type": "code",
   "execution_count": 53,
   "metadata": {},
   "outputs": [
    {
     "data": {
      "text/plain": [
       "6"
      ]
     },
     "execution_count": 53,
     "metadata": {},
     "output_type": "execute_result"
    }
   ],
   "source": [
    "# lambda n:n**2 # square number n\n",
    "s = lambda n1,n2:n1*n2  # product of n1 and n2\n",
    "s(2,3)"
   ]
  },
  {
   "cell_type": "code",
   "execution_count": 54,
   "metadata": {},
   "outputs": [],
   "source": [
    "## y = ax^2+bx+c; a = 2; b = 4; c = 5\n",
    "\n",
    "def solve(a,b,c):\n",
    "    return lambda x: a*(x**2) + b*x + c"
   ]
  },
  {
   "cell_type": "code",
   "execution_count": 55,
   "metadata": {},
   "outputs": [
    {
     "name": "stdout",
     "output_type": "stream",
     "text": [
      "when x = 1, y = 11\n",
      "when x = 2, y = 21\n",
      "when x = 3, y = 35\n",
      "when x = 4, y = 53\n",
      "when x = 5, y = 75\n"
     ]
    }
   ],
   "source": [
    "s = solve(2,4,5)\n",
    "# print(s(2))\n",
    "\n",
    "for x in range(1,6):\n",
    "    print(\"when x = {}, y = {}\".format(x, s(x)) )"
   ]
  },
  {
   "cell_type": "code",
   "execution_count": 56,
   "metadata": {},
   "outputs": [
    {
     "name": "stdout",
     "output_type": "stream",
     "text": [
      "when x = 1, y = 5\n",
      "when x = 2, y = 20\n",
      "when x = 3, y = 43\n",
      "when x = 4, y = 74\n",
      "when x = 5, y = 113\n"
     ]
    }
   ],
   "source": [
    "s = solve(4,3,-2)\n",
    "# print(s(2))\n",
    "\n",
    "for x in range(1,6):\n",
    "    print(\"when x = {}, y = {}\".format(x, s(x)) )"
   ]
  },
  {
   "cell_type": "markdown",
   "metadata": {},
   "source": [
    "## filter, map, reduce"
   ]
  },
  {
   "cell_type": "code",
   "execution_count": 57,
   "metadata": {},
   "outputs": [
    {
     "name": "stdout",
     "output_type": "stream",
     "text": [
      "[1, 2, 3, 4, 5, 6, 7, 8, 9, 10, 11, 12, 13, 14, 15, 16, 17, 18, 19, 20]\n"
     ]
    },
    {
     "data": {
      "text/plain": [
       "[2, 4, 6, 8, 10, 12, 14, 16, 18, 20]"
      ]
     },
     "execution_count": 57,
     "metadata": {},
     "output_type": "execute_result"
    }
   ],
   "source": [
    "## filter(function, iterables)\n",
    "data = list(range(1,21))\n",
    "print(data)\n",
    "list(filter(lambda x:x%2==0, data))"
   ]
  },
  {
   "cell_type": "code",
   "execution_count": 58,
   "metadata": {
    "scrolled": true
   },
   "outputs": [
    {
     "data": {
      "text/plain": [
       "[1,\n",
       " 4,\n",
       " 9,\n",
       " 16,\n",
       " 25,\n",
       " 36,\n",
       " 49,\n",
       " 64,\n",
       " 81,\n",
       " 100,\n",
       " 121,\n",
       " 144,\n",
       " 169,\n",
       " 196,\n",
       " 225,\n",
       " 256,\n",
       " 289,\n",
       " 324,\n",
       " 361,\n",
       " 400]"
      ]
     },
     "execution_count": 58,
     "metadata": {},
     "output_type": "execute_result"
    }
   ],
   "source": [
    "## map (function, iterables)\n",
    "data = list(range(1,21))\n",
    "list( map(lambda n:n**2, data) )"
   ]
  },
  {
   "cell_type": "code",
   "execution_count": 59,
   "metadata": {},
   "outputs": [],
   "source": [
    "list_ = ['female','male','female','male','female','male','female']\n",
    "# 'male': 0\n",
    "# 'female':1"
   ]
  },
  {
   "cell_type": "code",
   "execution_count": 60,
   "metadata": {},
   "outputs": [
    {
     "data": {
      "text/plain": [
       "0    1\n",
       "1    0\n",
       "2    1\n",
       "3    0\n",
       "4    1\n",
       "5    0\n",
       "6    1\n",
       "dtype: int64"
      ]
     },
     "execution_count": 60,
     "metadata": {},
     "output_type": "execute_result"
    }
   ],
   "source": [
    "import pandas as pd\n",
    "pd.Series(list_).map({'male':0,'female':1})"
   ]
  },
  {
   "cell_type": "code",
   "execution_count": 61,
   "metadata": {},
   "outputs": [
    {
     "data": {
      "text/plain": [
       "[1, 0, 1, 0, 1, 0, 1]"
      ]
     },
     "execution_count": 61,
     "metadata": {},
     "output_type": "execute_result"
    }
   ],
   "source": [
    "list(map(lambda x: 1 if x=='female' else 0, list_))"
   ]
  },
  {
   "cell_type": "code",
   "execution_count": 62,
   "metadata": {},
   "outputs": [
    {
     "name": "stdout",
     "output_type": "stream",
     "text": [
      "1\n",
      "0\n",
      "1\n",
      "0\n",
      "1\n",
      "0\n",
      "1\n"
     ]
    }
   ],
   "source": [
    "l_ = []\n",
    "for each in list_:\n",
    "    if each=='female':\n",
    "        print('1')\n",
    "    else:\n",
    "        print('0')"
   ]
  },
  {
   "cell_type": "code",
   "execution_count": 63,
   "metadata": {},
   "outputs": [
    {
     "data": {
      "text/plain": [
       "[1, 0, 1, 0, 1, 0, 1]"
      ]
     },
     "execution_count": 63,
     "metadata": {},
     "output_type": "execute_result"
    }
   ],
   "source": [
    "l_ = []\n",
    "for each in list_:\n",
    "    if each=='female':\n",
    "        l_.append(1)\n",
    "    else:\n",
    "        l_.append(0)\n",
    "l_"
   ]
  },
  {
   "cell_type": "code",
   "execution_count": 64,
   "metadata": {},
   "outputs": [
    {
     "data": {
      "text/plain": [
       "210"
      ]
     },
     "execution_count": 64,
     "metadata": {},
     "output_type": "execute_result"
    }
   ],
   "source": [
    "## syntax : reduce(function, iterables)\n",
    "from functools import reduce # import package\n",
    "\n",
    "# Example: add each element in a given list\n",
    "data = list(range(1,21)) ## list\n",
    "reduce(lambda x,y:x+y, data)"
   ]
  },
  {
   "cell_type": "code",
   "execution_count": 65,
   "metadata": {},
   "outputs": [],
   "source": [
    "# s = 0\n",
    "# for e in data:\n",
    "#     s = s+e\n",
    "# s"
   ]
  },
  {
   "cell_type": "code",
   "execution_count": 66,
   "metadata": {},
   "outputs": [],
   "source": [
    "# !pip install functools"
   ]
  },
  {
   "cell_type": "code",
   "execution_count": null,
   "metadata": {},
   "outputs": [],
   "source": []
  },
  {
   "cell_type": "code",
   "execution_count": null,
   "metadata": {},
   "outputs": [],
   "source": []
  }
 ],
 "metadata": {
  "kernelspec": {
   "display_name": "Python 3",
   "language": "python",
   "name": "python3"
  },
  "language_info": {
   "codemirror_mode": {
    "name": "ipython",
    "version": 3
   },
   "file_extension": ".py",
   "mimetype": "text/x-python",
   "name": "python",
   "nbconvert_exporter": "python",
   "pygments_lexer": "ipython3",
   "version": "3.7.5"
  }
 },
 "nbformat": 4,
 "nbformat_minor": 2
}
