{
 "cells": [
  {
   "cell_type": "markdown",
   "metadata": {},
   "source": [
    "## keywords: \n",
    "    - Any word/token that has predefined meaning \n",
    "    - Examples: print(), input(), min, max, for, while, if, else, ord(), str, int, float etc.\n",
    "## identifiers: \n",
    "    - temporary variables defined by users for storing values, not identified by program automatically\n",
    "    - must be initialised before using "
   ]
  },
  {
   "cell_type": "code",
   "execution_count": null,
   "metadata": {},
   "outputs": [],
   "source": [
    "print(), min, max, for, while"
   ]
  },
  {
   "cell_type": "code",
   "execution_count": null,
   "metadata": {},
   "outputs": [],
   "source": [
    "val = 2.0"
   ]
  },
  {
   "cell_type": "markdown",
   "metadata": {},
   "source": [
    "## Data types"
   ]
  },
  {
   "cell_type": "code",
   "execution_count": 1,
   "metadata": {},
   "outputs": [],
   "source": [
    "int_ = 5\n",
    "float_ = 3.0\n",
    "string_ = 'mystring'\n",
    "complex_ = 2+3j"
   ]
  },
  {
   "cell_type": "code",
   "execution_count": 2,
   "metadata": {},
   "outputs": [
    {
     "name": "stdout",
     "output_type": "stream",
     "text": [
      "<class 'int'>\n",
      "<class 'float'>\n",
      "<class 'str'>\n",
      "<class 'complex'>\n"
     ]
    }
   ],
   "source": [
    "print(type(int_))\n",
    "print(type(float_))\n",
    "print(type(string_))\n",
    "print(type(complex_))"
   ]
  },
  {
   "cell_type": "code",
   "execution_count": 3,
   "metadata": {},
   "outputs": [],
   "source": [
    "int_ = 'mystring'\n",
    "float_ = 3.0\n",
    "string_ = 5\n",
    "complex_ = 2+3j"
   ]
  },
  {
   "cell_type": "code",
   "execution_count": 4,
   "metadata": {},
   "outputs": [
    {
     "name": "stdout",
     "output_type": "stream",
     "text": [
      "<class 'str'>\n",
      "<class 'float'>\n",
      "<class 'int'>\n",
      "<class 'complex'>\n"
     ]
    }
   ],
   "source": [
    "print(type(int_))\n",
    "print(type(float_))\n",
    "print(type(string_))\n",
    "print(type(complex_))"
   ]
  },
  {
   "cell_type": "code",
   "execution_count": 5,
   "metadata": {},
   "outputs": [],
   "source": [
    "int_ = 3\n",
    "int_1 = 423528652863984673849673406730476384 ## there is no restriction on storing values as well as the local system supports"
   ]
  },
  {
   "cell_type": "code",
   "execution_count": 6,
   "metadata": {},
   "outputs": [
    {
     "name": "stdout",
     "output_type": "stream",
     "text": [
      "3 <class 'int'>\n",
      "3.0 <class 'float'>\n",
      "5 <class 'int'>\n",
      "(2+3j) <class 'complex'>\n"
     ]
    }
   ],
   "source": [
    "# displaying both values and types of each variable\n",
    "print(int_,type(int_))\n",
    "print(float_, type(float_))\n",
    "print(string_, type(string_))\n",
    "print(complex_, type(complex_))"
   ]
  },
  {
   "cell_type": "code",
   "execution_count": 7,
   "metadata": {},
   "outputs": [
    {
     "name": "stdout",
     "output_type": "stream",
     "text": [
      "4\n",
      "4\n"
     ]
    }
   ],
   "source": [
    "###\n",
    "var1 = 2\n",
    "var2 = 2\n",
    "temp = var1 + var2\n",
    "print(temp)\n",
    "# \n",
    "print(var1+var2)"
   ]
  },
  {
   "cell_type": "code",
   "execution_count": 8,
   "metadata": {},
   "outputs": [
    {
     "name": "stdout",
     "output_type": "stream",
     "text": [
      "<class 'str'>\n",
      "<class 'str'>\n",
      "<class 'str'>\n",
      "<class 'str'>\n"
     ]
    }
   ],
   "source": [
    "### \n",
    "str1 = '' # blank string\n",
    "str2 = \"\"\n",
    "str3 = \"\"\"\"\"\"\n",
    "str4 = ''''''\n",
    "print(type(str1))\n",
    "print(type(str2))\n",
    "print(type(str3))\n",
    "print(type(str4))"
   ]
  },
  {
   "cell_type": "code",
   "execution_count": 9,
   "metadata": {},
   "outputs": [
    {
     "name": "stdout",
     "output_type": "stream",
     "text": [
      "<class 'str'>\n",
      "<class 'str'>\n",
      "<class 'str'>\n",
      "<class 'str'>\n"
     ]
    }
   ],
   "source": [
    "### \n",
    "str1 = 'mystring' # non blank string\n",
    "str2 = \"mystring\"\n",
    "str3 = \"\"\"mystring\"\"\"\n",
    "str4 = '''mystring'''\n",
    "print(type(str1))\n",
    "print(type(str2))\n",
    "print(type(str3))\n",
    "print(type(str4))"
   ]
  },
  {
   "cell_type": "code",
   "execution_count": null,
   "metadata": {},
   "outputs": [],
   "source": []
  },
  {
   "cell_type": "code",
   "execution_count": null,
   "metadata": {},
   "outputs": [],
   "source": [
    "She is going home.\n",
    "And, will come tomorrow."
   ]
  },
  {
   "cell_type": "code",
   "execution_count": 11,
   "metadata": {},
   "outputs": [
    {
     "name": "stdout",
     "output_type": "stream",
     "text": [
      "mystring\n",
      "She's going home.\n",
      "She's going home.\n",
      "She's going home.\n"
     ]
    }
   ],
   "source": [
    "### \n",
    "# str1 = 'She's going home.'  ### without special charcters\n",
    "str2 = \"She's going home.\"   \n",
    "str3 = \"\"\"She's going home.\"\"\"\n",
    "str4 = '''She's going home.'''\n",
    "print(str1)\n",
    "print(str2)\n",
    "print(str3)\n",
    "print(str4)"
   ]
  },
  {
   "cell_type": "code",
   "execution_count": 13,
   "metadata": {},
   "outputs": [
    {
     "name": "stdout",
     "output_type": "stream",
     "text": [
      "She is going home.\n",
      "And, will come tomorrow.\n",
      "She is going home.\n",
      "And, will come tomorrow.\n"
     ]
    }
   ],
   "source": [
    "### \n",
    "# str1 = 'She's going home.'  ### without special charcters\n",
    "# str2 = \"She is going home.  ### does not support multi-lines string\n",
    "# And, will come tomorrow.\"   \n",
    "str3 = \"\"\"She is going home.\n",
    "And, will come tomorrow.\"\"\"\n",
    "str4 = '''She is going home.\n",
    "And, will come tomorrow.'''\n",
    "# print(str1)\n",
    "# print(str2)\n",
    "print(str3)\n",
    "print(str4)"
   ]
  },
  {
   "cell_type": "code",
   "execution_count": 17,
   "metadata": {},
   "outputs": [
    {
     "data": {
      "text/plain": [
       "'m'"
      ]
     },
     "execution_count": 17,
     "metadata": {},
     "output_type": "execute_result"
    }
   ],
   "source": [
    "###\n",
    "str1 = 'mystring'\n",
    "str1[0]  ## access through indexing/passing position within square bracket"
   ]
  },
  {
   "cell_type": "code",
   "execution_count": 18,
   "metadata": {},
   "outputs": [
    {
     "name": "stdout",
     "output_type": "stream",
     "text": [
      "s\n",
      "t\n",
      "my\n"
     ]
    }
   ],
   "source": [
    "print(str1[2])\n",
    "print(str1[3])\n",
    "print(str1[0:2])  # [start:end]"
   ]
  },
  {
   "cell_type": "code",
   "execution_count": 21,
   "metadata": {},
   "outputs": [],
   "source": [
    "### in above string, replace 's' with 'a'\n",
    "# str1[2] = 'a'  # will give an error due to immutable property"
   ]
  },
  {
   "cell_type": "code",
   "execution_count": 20,
   "metadata": {},
   "outputs": [],
   "source": [
    "str1 = 'mydummystr'"
   ]
  },
  {
   "cell_type": "code",
   "execution_count": 26,
   "metadata": {},
   "outputs": [
    {
     "name": "stdout",
     "output_type": "stream",
     "text": [
      "helloworld\n",
      "hello5\n",
      "hellohello\n"
     ]
    }
   ],
   "source": [
    "str1 = 'hello'\n",
    "str2 = 'world'\n",
    "int_3 = 5\n",
    "print(str1 + str2) ## string concatenation\n",
    "print(str1 + str(int_3 ))\n",
    "print(str1*2)  # repetition by 2 times"
   ]
  },
  {
   "cell_type": "code",
   "execution_count": 29,
   "metadata": {},
   "outputs": [
    {
     "name": "stdout",
     "output_type": "stream",
     "text": [
      "myatring\n"
     ]
    }
   ],
   "source": [
    "# replace 's' with 'a'\n",
    "str1 = 'mystring'\n",
    "\n",
    "mynewstr = str1[0:2]+'a'+str1[3:]  ## [start:end] => end default value is end of the string\n",
    "print(mynewstr)                                     # => start default value is 0"
   ]
  },
  {
   "cell_type": "code",
   "execution_count": 32,
   "metadata": {},
   "outputs": [
    {
     "name": "stdout",
     "output_type": "stream",
     "text": [
      "g\n",
      "g\n"
     ]
    }
   ],
   "source": [
    "print(str1[7])\n",
    "print(str1[-1]) # negative indexing"
   ]
  },
  {
   "cell_type": "code",
   "execution_count": 37,
   "metadata": {},
   "outputs": [],
   "source": [
    "### inbuilt methods supported by string object type\n",
    "str1 = 'mystring123.'"
   ]
  },
  {
   "cell_type": "code",
   "execution_count": 38,
   "metadata": {},
   "outputs": [
    {
     "data": {
      "text/plain": [
       "False"
      ]
     },
     "execution_count": 38,
     "metadata": {},
     "output_type": "execute_result"
    }
   ],
   "source": [
    "str1.isalnum()"
   ]
  },
  {
   "cell_type": "code",
   "execution_count": 39,
   "metadata": {},
   "outputs": [
    {
     "data": {
      "text/plain": [
       "'Mystring123.'"
      ]
     },
     "execution_count": 39,
     "metadata": {},
     "output_type": "execute_result"
    }
   ],
   "source": [
    "str1.capitalize()"
   ]
  },
  {
   "cell_type": "code",
   "execution_count": 40,
   "metadata": {},
   "outputs": [
    {
     "name": "stdout",
     "output_type": "stream",
     "text": [
      "<class 'bool'>\n",
      "<class 'bool'>\n"
     ]
    }
   ],
   "source": [
    "### booleans: True, False\n",
    "# True False\n",
    "print(type(True))\n",
    "print(type(False))"
   ]
  },
  {
   "cell_type": "markdown",
   "metadata": {},
   "source": [
    "## operators and their precedences"
   ]
  },
  {
   "cell_type": "markdown",
   "metadata": {},
   "source": [
    "### Arithmetic operators: +,-,/,//,'***','**',%\n"
   ]
  },
  {
   "cell_type": "code",
   "execution_count": 43,
   "metadata": {},
   "outputs": [
    {
     "name": "stdout",
     "output_type": "stream",
     "text": [
      "5\n",
      "1\n",
      "6\n",
      "9\n",
      "1.5\n",
      "1\n",
      "1.0\n",
      "1\n"
     ]
    }
   ],
   "source": [
    "### Arithmetic operators: +,-,/,//,'**','*',%\n",
    "\n",
    "print(3+2) # 5\n",
    "print(3-2) # 1\n",
    "print(3*2) # 6\n",
    "print(3**2)# 9 \n",
    "print(3/2) # 1.5\n",
    "print(3//2) # 1\n",
    "print(3//2.0) # 1.0\n",
    "print(3%2) # 1"
   ]
  },
  {
   "cell_type": "markdown",
   "metadata": {},
   "source": [
    "## comparison operators: ==,!=,>,>=,<,<= \n",
    " - always return bool : True or False"
   ]
  },
  {
   "cell_type": "code",
   "execution_count": 44,
   "metadata": {},
   "outputs": [
    {
     "name": "stdout",
     "output_type": "stream",
     "text": [
      "False\n",
      "True\n",
      "False\n",
      "False\n",
      "True\n",
      "True\n"
     ]
    }
   ],
   "source": [
    "a = 4\n",
    "b = 10\n",
    "\n",
    "print(a==b) # False\n",
    "print(a!=b) # True\n",
    "print(a>b)  # False\n",
    "print(a>=b) # False\n",
    "print(a<b)  # True\n",
    "print(a<=b) # True"
   ]
  },
  {
   "cell_type": "markdown",
   "metadata": {},
   "source": [
    "## Logical operators: AND, OR, NOT\n",
    "\n",
    "AND:\n",
    "           - 1 1 = 1\n",
    "           - 1 0 = 0\n",
    "           - 0 1 = 0\n",
    "           - 0 0 = 0\n",
    "\n",
    "OR: \n",
    "            - 1 1 = 1\n",
    "            - 1 0 = 1\n",
    "            - 0 1 = 1\n",
    "            - 0 0 = 0\n",
    "\n",
    "NOT:\n",
    "             - 1 = 0\n",
    "             - 0 = 1"
   ]
  },
  {
   "cell_type": "code",
   "execution_count": 46,
   "metadata": {},
   "outputs": [
    {
     "name": "stdout",
     "output_type": "stream",
     "text": [
      "False\n",
      "True\n",
      "True\n",
      "True\n",
      "False\n",
      "False\n",
      "False\n",
      "False\n"
     ]
    }
   ],
   "source": [
    "print (not (True )) # False\n",
    "print (not (False )) # True\n",
    "print( not (True == False)) # True\n",
    "print(  (not (3!=5) or (2>1)) or((4==4) and (4!=4)) ) # True\n",
    "print(  (not (3!=5) and (2>1)) and((4==4) and (4!=4))  ) # False\n",
    "print(   (7>4) and (4<0) or (4>2) and (4>5)) # False\n",
    "print(   ((7>4) and (4<0)) or (4>2) and (4>5)) # False\n",
    "print(   (7>4) and (((4<0) or (4>2)) and (4>5))) #False"
   ]
  },
  {
   "cell_type": "code",
   "execution_count": 47,
   "metadata": {},
   "outputs": [],
   "source": [
    "# (  (not (3!=5) or (2>1)) or((4==4) and (4!=4)) )\n",
    "# (  (not True or True) or(True and False) )\n",
    "# (  (False or True) or(True and False) )\n",
    "# (  (True) or (False) )\n",
    "# (  True )"
   ]
  },
  {
   "cell_type": "markdown",
   "metadata": {},
   "source": [
    "## Assignment Operorats\n",
    "=,+=,*=,-=,/=,%=,//=\n"
   ]
  },
  {
   "cell_type": "code",
   "execution_count": 48,
   "metadata": {},
   "outputs": [
    {
     "name": "stdout",
     "output_type": "stream",
     "text": [
      "10\n",
      "15\n",
      "5\n",
      "10\n",
      "2\n",
      "0.4\n"
     ]
    }
   ],
   "source": [
    "a = 10\n",
    "# a = a + 5\n",
    "print(a) # 10\n",
    "a += 5  \n",
    "print(a) # 15\n",
    "a -= 10\n",
    "print(a) # 5\n",
    "a *= 2\n",
    "print(a) # 10\n",
    "a %=4\n",
    "print(a) # 2\n",
    "a /= 5\n",
    "print(a) # 0.4"
   ]
  },
  {
   "cell_type": "markdown",
   "metadata": {},
   "source": [
    "## identity operators: is, is not"
   ]
  },
  {
   "cell_type": "code",
   "execution_count": 49,
   "metadata": {},
   "outputs": [
    {
     "data": {
      "text/plain": [
       "False"
      ]
     },
     "execution_count": 49,
     "metadata": {},
     "output_type": "execute_result"
    }
   ],
   "source": [
    "3 is 4"
   ]
  },
  {
   "cell_type": "code",
   "execution_count": 50,
   "metadata": {},
   "outputs": [
    {
     "data": {
      "text/plain": [
       "True"
      ]
     },
     "execution_count": 50,
     "metadata": {},
     "output_type": "execute_result"
    }
   ],
   "source": [
    "3 is not 4"
   ]
  },
  {
   "cell_type": "markdown",
   "metadata": {},
   "source": [
    "## membership operators: in, not in"
   ]
  },
  {
   "cell_type": "code",
   "execution_count": 53,
   "metadata": {},
   "outputs": [
    {
     "name": "stdout",
     "output_type": "stream",
     "text": [
      "True\n",
      "False\n",
      "True\n"
     ]
    }
   ],
   "source": [
    "print(5 in [3,4,5,6,7,9])\n",
    "print(5 in [3,4,6,7,9])\n",
    "print(5.0 in [3.0,4.0,5.0,6.0,7.0,9.0])"
   ]
  },
  {
   "cell_type": "code",
   "execution_count": 54,
   "metadata": {},
   "outputs": [
    {
     "data": {
      "text/plain": [
       "True"
      ]
     },
     "execution_count": 54,
     "metadata": {},
     "output_type": "execute_result"
    }
   ],
   "source": [
    "'bangalore' in ['bangalore','chennai','gujrat','mumbai']"
   ]
  },
  {
   "cell_type": "code",
   "execution_count": 55,
   "metadata": {},
   "outputs": [
    {
     "data": {
      "text/plain": [
       "False"
      ]
     },
     "execution_count": 55,
     "metadata": {},
     "output_type": "execute_result"
    }
   ],
   "source": [
    "'bangalore' not in ['bangalore','chennai','gujrat','mumbai']"
   ]
  },
  {
   "cell_type": "code",
   "execution_count": 56,
   "metadata": {},
   "outputs": [
    {
     "name": "stdout",
     "output_type": "stream",
     "text": [
      "This is my input.\n"
     ]
    },
    {
     "data": {
      "text/plain": [
       "'This is my input.'"
      ]
     },
     "execution_count": 56,
     "metadata": {},
     "output_type": "execute_result"
    }
   ],
   "source": [
    "##  inbuilts functions\n",
    "input()"
   ]
  },
  {
   "cell_type": "code",
   "execution_count": 57,
   "metadata": {},
   "outputs": [
    {
     "name": "stdout",
     "output_type": "stream",
     "text": [
      "3\n"
     ]
    },
    {
     "data": {
      "text/plain": [
       "'3'"
      ]
     },
     "execution_count": 57,
     "metadata": {},
     "output_type": "execute_result"
    }
   ],
   "source": [
    "## read an integer using input()\n",
    "input()"
   ]
  },
  {
   "cell_type": "code",
   "execution_count": 59,
   "metadata": {},
   "outputs": [
    {
     "name": "stdout",
     "output_type": "stream",
     "text": [
      "Enter an integer:4\n",
      "<class 'str'>\n"
     ]
    }
   ],
   "source": [
    "myint = input('Enter an integer:')\n",
    "print(type(myint))"
   ]
  },
  {
   "cell_type": "code",
   "execution_count": 61,
   "metadata": {},
   "outputs": [
    {
     "name": "stdout",
     "output_type": "stream",
     "text": [
      "Enter an integer:4\n",
      "Enter an integer:5\n",
      "Summation =  9\n"
     ]
    }
   ],
   "source": [
    "## Read two integers from user and print summation of the two.\n",
    "# read values from user\n",
    "int1 = input('Enter an integer:')\n",
    "int2 = input('Enter an integer:')\n",
    "## summation\n",
    "sum_ = int(int1) + int(int2)\n",
    "# display\n",
    "print('Summation = ',sum_)"
   ]
  },
  {
   "cell_type": "code",
   "execution_count": null,
   "metadata": {},
   "outputs": [],
   "source": []
  }
 ],
 "metadata": {
  "kernelspec": {
   "display_name": "Python 3",
   "language": "python",
   "name": "python3"
  },
  "language_info": {
   "codemirror_mode": {
    "name": "ipython",
    "version": 3
   },
   "file_extension": ".py",
   "mimetype": "text/x-python",
   "name": "python",
   "nbconvert_exporter": "python",
   "pygments_lexer": "ipython3",
   "version": "3.7.5"
  }
 },
 "nbformat": 4,
 "nbformat_minor": 2
}
